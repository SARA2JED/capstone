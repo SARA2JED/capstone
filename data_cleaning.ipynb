{
 "cells": [
  {
   "cell_type": "code",
   "execution_count": 1,
   "metadata": {},
   "outputs": [],
   "source": [
    "#%% imports \n",
    "import pandas as pd\n",
    "import spacy\n",
    "\n",
    "import nltk\n",
    "from nltk.corpus import stopwords\n",
    "from nltk.stem import PorterStemmer, WordNetLemmatizer\n",
    "from nltk.tag import DefaultTagger\n",
    "from nltk.corpus import treebank\n",
    "\n",
    "# Load Text Cleaning Pkgs\n",
    "import neattext.functions as nfx\n",
    "\n",
    "#\n",
    "from tqdm import tqdm\n",
    "tqdm.pandas()\n"
   ]
  },
  {
   "cell_type": "code",
   "execution_count": 2,
   "metadata": {},
   "outputs": [
    {
     "name": "stdout",
     "output_type": "stream",
     "text": [
      "showing info https://raw.githubusercontent.com/nltk/nltk_data/gh-pages/index.xml\n"
     ]
    },
    {
     "data": {
      "text/plain": [
       "True"
      ]
     },
     "execution_count": 2,
     "metadata": {},
     "output_type": "execute_result"
    }
   ],
   "source": [
    "#  installing the nltk python package\n",
    "nltk.download()"
   ]
  },
  {
   "cell_type": "code",
   "execution_count": 2,
   "metadata": {},
   "outputs": [],
   "source": [
    "# import data \n",
    "song_data = pd.read_csv(\"lyrics-data.csv\")\n",
    "df = pd.DataFrame(song_data, columns =[ 'SName', 'Lyric' , 'Idiom'])\n"
   ]
  },
  {
   "cell_type": "code",
   "execution_count": 3,
   "metadata": {},
   "outputs": [],
   "source": [
    "# remove non english songs from the datset \n",
    "df = df.drop(df[df.Idiom != 'ENGLISH'].index)\n",
    "# drop Idiom column \n",
    "df = df.drop(columns=\"Idiom\")"
   ]
  },
  {
   "cell_type": "code",
   "execution_count": 4,
   "metadata": {},
   "outputs": [],
   "source": [
    "english_stop_words = set(stopwords.words(\"english\"))\n",
    "\n",
    "# Exclude stopwords with Python's list comprehension and pandas.DataFrame.apply.\n",
    "df['lyrics_without_stopwords'] = df['Lyric'].apply(lambda x: ' '.join([word for word in x.split() if word not in (english_stop_words)]))\n"
   ]
  },
  {
   "cell_type": "code",
   "execution_count": 5,
   "metadata": {},
   "outputs": [],
   "source": [
    "# Data Cleaning\n",
    "dir(nfx)\n",
    "# remove punctuations\n",
    "df['Clean_Text'] = df['lyrics_without_stopwords'].apply(nfx.remove_punctuations)\n",
    "# remove hashtags\n",
    "df['Clean_Text'] = df['Clean_Text'].apply(nfx.remove_hashtags)\n",
    "# remove numbers\n",
    "df['Clean_Text'] = df['Clean_Text'].apply(nfx.remove_numbers)\n",
    "# remove characters\n",
    "df['Clean_Text'] = df['Clean_Text'].apply(nfx.remove_special_characters)\n"
   ]
  },
  {
   "cell_type": "code",
   "execution_count": 6,
   "metadata": {},
   "outputs": [
    {
     "data": {
      "text/html": [
       "<div>\n",
       "<style scoped>\n",
       "    .dataframe tbody tr th:only-of-type {\n",
       "        vertical-align: middle;\n",
       "    }\n",
       "\n",
       "    .dataframe tbody tr th {\n",
       "        vertical-align: top;\n",
       "    }\n",
       "\n",
       "    .dataframe thead th {\n",
       "        text-align: right;\n",
       "    }\n",
       "</style>\n",
       "<table border=\"1\" class=\"dataframe\">\n",
       "  <thead>\n",
       "    <tr style=\"text-align: right;\">\n",
       "      <th></th>\n",
       "      <th>SName</th>\n",
       "      <th>Lyric</th>\n",
       "      <th>lyrics_without_stopwords</th>\n",
       "      <th>Clean_Text</th>\n",
       "    </tr>\n",
       "  </thead>\n",
       "  <tbody>\n",
       "    <tr>\n",
       "      <th>0</th>\n",
       "      <td>More Than This</td>\n",
       "      <td>I could feel at the time. There was no way of ...</td>\n",
       "      <td>I could feel time. There way knowing. Fallen l...</td>\n",
       "      <td>I could feel time There way knowing Fallen lea...</td>\n",
       "    </tr>\n",
       "    <tr>\n",
       "      <th>1</th>\n",
       "      <td>Because The Night</td>\n",
       "      <td>Take me now, baby, here as I am. Hold me close...</td>\n",
       "      <td>Take now, baby, I am. Hold close, try understa...</td>\n",
       "      <td>Take now baby I am Hold close try understand D...</td>\n",
       "    </tr>\n",
       "    <tr>\n",
       "      <th>2</th>\n",
       "      <td>These Are Days</td>\n",
       "      <td>These are. These are days you'll remember. Nev...</td>\n",
       "      <td>These are. These days remember. Never never si...</td>\n",
       "      <td>These are These days remember Never never sinc...</td>\n",
       "    </tr>\n",
       "    <tr>\n",
       "      <th>3</th>\n",
       "      <td>A Campfire Song</td>\n",
       "      <td>A lie to say, \"O my mountain has coal veins an...</td>\n",
       "      <td>A lie say, \"O mountain coal veins beds dig.. 5...</td>\n",
       "      <td>A lie say O mountain coal veins beds dig  men ...</td>\n",
       "    </tr>\n",
       "    <tr>\n",
       "      <th>4</th>\n",
       "      <td>Everyday Is Like Sunday</td>\n",
       "      <td>Trudging slowly over wet sand. Back to the ben...</td>\n",
       "      <td>Trudging slowly wet sand. Back bench clothes s...</td>\n",
       "      <td>Trudging slowly wet sand Back bench clothes st...</td>\n",
       "    </tr>\n",
       "  </tbody>\n",
       "</table>\n",
       "</div>"
      ],
      "text/plain": [
       "                     SName                                              Lyric  \\\n",
       "0           More Than This  I could feel at the time. There was no way of ...   \n",
       "1        Because The Night  Take me now, baby, here as I am. Hold me close...   \n",
       "2           These Are Days  These are. These are days you'll remember. Nev...   \n",
       "3          A Campfire Song  A lie to say, \"O my mountain has coal veins an...   \n",
       "4  Everyday Is Like Sunday  Trudging slowly over wet sand. Back to the ben...   \n",
       "\n",
       "                            lyrics_without_stopwords  \\\n",
       "0  I could feel time. There way knowing. Fallen l...   \n",
       "1  Take now, baby, I am. Hold close, try understa...   \n",
       "2  These are. These days remember. Never never si...   \n",
       "3  A lie say, \"O mountain coal veins beds dig.. 5...   \n",
       "4  Trudging slowly wet sand. Back bench clothes s...   \n",
       "\n",
       "                                          Clean_Text  \n",
       "0  I could feel time There way knowing Fallen lea...  \n",
       "1  Take now baby I am Hold close try understand D...  \n",
       "2  These are These days remember Never never sinc...  \n",
       "3  A lie say O mountain coal veins beds dig  men ...  \n",
       "4  Trudging slowly wet sand Back bench clothes st...  "
      ]
     },
     "execution_count": 6,
     "metadata": {},
     "output_type": "execute_result"
    }
   ],
   "source": [
    "df.head(5)"
   ]
  },
  {
   "cell_type": "code",
   "execution_count": null,
   "metadata": {},
   "outputs": [],
   "source": [
    "#Stemming and Lemmatization\n",
    "\n",
    "stemmer = PorterStemmer()\n",
    "w_tokenizer = nltk.tokenize.WhitespaceTokenizer()\n",
    "lemmatizer = nltk.stem.WordNetLemmatizer()\n",
    "nltk.download('wordnet')\n"
   ]
  },
  {
   "cell_type": "code",
   "execution_count": null,
   "metadata": {},
   "outputs": [],
   "source": [
    "#%%(takes 30 min )\n",
    "df['lyrics_stem/lem'] = df['Clean_Text'].str.split().apply(lambda x: [stemmer.stem(y) for y in x]).apply(lambda x: [lemmatizer.lemmatize(y) for y in x])\n"
   ]
  },
  {
   "cell_type": "code",
   "execution_count": null,
   "metadata": {},
   "outputs": [],
   "source": [
    "# save new clean data \n",
    "df.to_csv('clean_file.csv', index=False)\n",
    "\n"
   ]
  }
 ],
 "metadata": {
  "interpreter": {
   "hash": "ff1de33649510ac30c93f6edf1fdd6efd6fa4433b0a5d3feb7f2587c455ddc0d"
  },
  "kernelspec": {
   "display_name": "Python 3.9.7 64-bit ('.venv': venv)",
   "language": "python",
   "name": "python3"
  },
  "language_info": {
   "codemirror_mode": {
    "name": "ipython",
    "version": 3
   },
   "file_extension": ".py",
   "mimetype": "text/x-python",
   "name": "python",
   "nbconvert_exporter": "python",
   "pygments_lexer": "ipython3",
   "version": "3.9.7"
  },
  "orig_nbformat": 4
 },
 "nbformat": 4,
 "nbformat_minor": 2
}
